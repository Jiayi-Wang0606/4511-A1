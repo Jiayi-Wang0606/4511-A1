{
 "cells": [
  {
   "cell_type": "code",
   "execution_count": 112,
   "id": "initial_id",
   "metadata": {
    "collapsed": true,
    "ExecuteTime": {
     "end_time": "2024-02-16T02:38:47.415624Z",
     "start_time": "2024-02-16T02:38:47.409298Z"
    }
   },
   "outputs": [],
   "source": [
    "import pandas as pd\n",
    "import numpy as np\n",
    "from sklearn.feature_extraction.text import CountVectorizer\n",
    "import re\n",
    "from nltk.corpus import stopwords\n",
    "import nltk\n"
   ]
  },
  {
   "cell_type": "code",
   "outputs": [
    {
     "data": {
      "text/plain": "                                                     link  \\\n0       https://www.huffpost.com/entry/covid-boosters-...   \n1       https://www.huffpost.com/entry/american-airlin...   \n2       https://www.huffpost.com/entry/funniest-tweets...   \n3       https://www.huffpost.com/entry/funniest-parent...   \n4       https://www.huffpost.com/entry/amy-cooper-lose...   \n...                                                   ...   \n209522  https://www.huffingtonpost.com/entry/rim-ceo-t...   \n209523  https://www.huffingtonpost.com/entry/maria-sha...   \n209524  https://www.huffingtonpost.com/entry/super-bow...   \n209525  https://www.huffingtonpost.com/entry/aldon-smi...   \n209526  https://www.huffingtonpost.com/entry/dwight-ho...   \n\n                                                 headline   category  \\\n0       Over 4 Million Americans Roll Up Sleeves For O...  U.S. NEWS   \n1       American Airlines Flyer Charged, Banned For Li...  U.S. NEWS   \n2       23 Of The Funniest Tweets About Cats And Dogs ...     COMEDY   \n3       The Funniest Tweets From Parents This Week (Se...  PARENTING   \n4       Woman Who Called Cops On Black Bird-Watcher Lo...  U.S. NEWS   \n...                                                   ...        ...   \n209522  RIM CEO Thorsten Heins' 'Significant' Plans Fo...       TECH   \n209523  Maria Sharapova Stunned By Victoria Azarenka I...     SPORTS   \n209524  Giants Over Patriots, Jets Over Colts Among  M...     SPORTS   \n209525  Aldon Smith Arrested: 49ers Linebacker Busted ...     SPORTS   \n209526  Dwight Howard Rips Teammates After Magic Loss ...     SPORTS   \n\n                                        short_description  \\\n0       Health experts said it is too early to predict...   \n1       He was subdued by passengers and crew when he ...   \n2       \"Until you have a dog you don't understand wha...   \n3       \"Accidentally put grown-up toothpaste on my to...   \n4       Amy Cooper accused investment firm Franklin Te...   \n...                                                   ...   \n209522  Verizon Wireless and AT&T are already promotin...   \n209523  Afterward, Azarenka, more effusive with the pr...   \n209524  Leading up to Super Bowl XLVI, the most talked...   \n209525  CORRECTION: An earlier version of this story i...   \n209526  The five-time all-star center tore into his te...   \n\n                     authors       date  \n0       Carla K. Johnson, AP 2022-09-23  \n1             Mary Papenfuss 2022-09-23  \n2              Elyse Wanshel 2022-09-23  \n3           Caroline Bologna 2022-09-23  \n4             Nina Golgowski 2022-09-22  \n...                      ...        ...  \n209522      Reuters, Reuters 2012-01-28  \n209523                       2012-01-28  \n209524                       2012-01-28  \n209525                       2012-01-28  \n209526                       2012-01-28  \n\n[209527 rows x 6 columns]",
      "text/html": "<div>\n<style scoped>\n    .dataframe tbody tr th:only-of-type {\n        vertical-align: middle;\n    }\n\n    .dataframe tbody tr th {\n        vertical-align: top;\n    }\n\n    .dataframe thead th {\n        text-align: right;\n    }\n</style>\n<table border=\"1\" class=\"dataframe\">\n  <thead>\n    <tr style=\"text-align: right;\">\n      <th></th>\n      <th>link</th>\n      <th>headline</th>\n      <th>category</th>\n      <th>short_description</th>\n      <th>authors</th>\n      <th>date</th>\n    </tr>\n  </thead>\n  <tbody>\n    <tr>\n      <th>0</th>\n      <td>https://www.huffpost.com/entry/covid-boosters-...</td>\n      <td>Over 4 Million Americans Roll Up Sleeves For O...</td>\n      <td>U.S. NEWS</td>\n      <td>Health experts said it is too early to predict...</td>\n      <td>Carla K. Johnson, AP</td>\n      <td>2022-09-23</td>\n    </tr>\n    <tr>\n      <th>1</th>\n      <td>https://www.huffpost.com/entry/american-airlin...</td>\n      <td>American Airlines Flyer Charged, Banned For Li...</td>\n      <td>U.S. NEWS</td>\n      <td>He was subdued by passengers and crew when he ...</td>\n      <td>Mary Papenfuss</td>\n      <td>2022-09-23</td>\n    </tr>\n    <tr>\n      <th>2</th>\n      <td>https://www.huffpost.com/entry/funniest-tweets...</td>\n      <td>23 Of The Funniest Tweets About Cats And Dogs ...</td>\n      <td>COMEDY</td>\n      <td>\"Until you have a dog you don't understand wha...</td>\n      <td>Elyse Wanshel</td>\n      <td>2022-09-23</td>\n    </tr>\n    <tr>\n      <th>3</th>\n      <td>https://www.huffpost.com/entry/funniest-parent...</td>\n      <td>The Funniest Tweets From Parents This Week (Se...</td>\n      <td>PARENTING</td>\n      <td>\"Accidentally put grown-up toothpaste on my to...</td>\n      <td>Caroline Bologna</td>\n      <td>2022-09-23</td>\n    </tr>\n    <tr>\n      <th>4</th>\n      <td>https://www.huffpost.com/entry/amy-cooper-lose...</td>\n      <td>Woman Who Called Cops On Black Bird-Watcher Lo...</td>\n      <td>U.S. NEWS</td>\n      <td>Amy Cooper accused investment firm Franklin Te...</td>\n      <td>Nina Golgowski</td>\n      <td>2022-09-22</td>\n    </tr>\n    <tr>\n      <th>...</th>\n      <td>...</td>\n      <td>...</td>\n      <td>...</td>\n      <td>...</td>\n      <td>...</td>\n      <td>...</td>\n    </tr>\n    <tr>\n      <th>209522</th>\n      <td>https://www.huffingtonpost.com/entry/rim-ceo-t...</td>\n      <td>RIM CEO Thorsten Heins' 'Significant' Plans Fo...</td>\n      <td>TECH</td>\n      <td>Verizon Wireless and AT&amp;T are already promotin...</td>\n      <td>Reuters, Reuters</td>\n      <td>2012-01-28</td>\n    </tr>\n    <tr>\n      <th>209523</th>\n      <td>https://www.huffingtonpost.com/entry/maria-sha...</td>\n      <td>Maria Sharapova Stunned By Victoria Azarenka I...</td>\n      <td>SPORTS</td>\n      <td>Afterward, Azarenka, more effusive with the pr...</td>\n      <td></td>\n      <td>2012-01-28</td>\n    </tr>\n    <tr>\n      <th>209524</th>\n      <td>https://www.huffingtonpost.com/entry/super-bow...</td>\n      <td>Giants Over Patriots, Jets Over Colts Among  M...</td>\n      <td>SPORTS</td>\n      <td>Leading up to Super Bowl XLVI, the most talked...</td>\n      <td></td>\n      <td>2012-01-28</td>\n    </tr>\n    <tr>\n      <th>209525</th>\n      <td>https://www.huffingtonpost.com/entry/aldon-smi...</td>\n      <td>Aldon Smith Arrested: 49ers Linebacker Busted ...</td>\n      <td>SPORTS</td>\n      <td>CORRECTION: An earlier version of this story i...</td>\n      <td></td>\n      <td>2012-01-28</td>\n    </tr>\n    <tr>\n      <th>209526</th>\n      <td>https://www.huffingtonpost.com/entry/dwight-ho...</td>\n      <td>Dwight Howard Rips Teammates After Magic Loss ...</td>\n      <td>SPORTS</td>\n      <td>The five-time all-star center tore into his te...</td>\n      <td></td>\n      <td>2012-01-28</td>\n    </tr>\n  </tbody>\n</table>\n<p>209527 rows × 6 columns</p>\n</div>"
     },
     "execution_count": 113,
     "metadata": {},
     "output_type": "execute_result"
    }
   ],
   "source": [
    "data=pd.read_json('/Users/liujingyi/Desktop/News_Category_Dataset_v3.json',lines=True)\n",
    "data=data.dropna()\n",
    "data"
   ],
   "metadata": {
    "collapsed": false,
    "ExecuteTime": {
     "end_time": "2024-02-16T02:38:49.316844Z",
     "start_time": "2024-02-16T02:38:48.135063Z"
    }
   },
   "id": "a2ed964d2717431e",
   "execution_count": 113
  },
  {
   "cell_type": "code",
   "outputs": [],
   "source": [
    "df = data.sort_values(by='date') \n",
    "train_size=0.7\n",
    "split_index = int(len(df) * train_size)\n",
    "train = df[:split_index]\n",
    "test= df[split_index:]\n",
    "# train = df[0:7000]\n",
    "# test= df[7000:10000]"
   ],
   "metadata": {
    "collapsed": false,
    "ExecuteTime": {
     "end_time": "2024-02-16T02:38:53.007008Z",
     "start_time": "2024-02-16T02:38:52.929953Z"
    }
   },
   "id": "661623d62a40c52f",
   "execution_count": 114
  },
  {
   "cell_type": "code",
   "outputs": [
    {
     "name": "stderr",
     "output_type": "stream",
     "text": [
      "/var/folders/9x/3n1chdsx4pxg5ymbp6p9ptwr0000gn/T/ipykernel_93134/911862339.py:9: SettingWithCopyWarning: \n",
      "A value is trying to be set on a copy of a slice from a DataFrame.\n",
      "Try using .loc[row_indexer,col_indexer] = value instead\n",
      "\n",
      "See the caveats in the documentation: https://pandas.pydata.org/pandas-docs/stable/user_guide/indexing.html#returning-a-view-versus-a-copy\n",
      "  train['processed'] = train['short_description'].apply(preprocess)\n"
     ]
    }
   ],
   "source": [
    "def preprocess(text):\n",
    "    text = text.lower()  # 转换为小写\n",
    "    text = re.sub(r'\\b\\d+\\b', '', text)  # 移除数字\n",
    "    text = re.sub(r'[^a-z\\s]', '', text)  # 移除标点\n",
    "    words = text.split()  # 分词\n",
    "    words = [word for word in words if word not in stopwords.words('english')]  # 移除停用词\n",
    "    return ' '.join(words)\n",
    "\n",
    "train['processed'] = train['short_description'].apply(preprocess)\n",
    "vectorizer = CountVectorizer(max_features=1000)\n",
    "X = vectorizer.fit_transform(train['processed'])\n",
    "vocab = vectorizer.get_feature_names_out()\n",
    "\n",
    "# 获取文档-词矩阵\n",
    "doc_word_matrix = X.toarray()\n",
    "\n",
    "# 转换为 onlineldavb.py 可接受的格式\n",
    "D = len(train)  # 文档总数\n",
    "W = len(vocab)  # 词汇总数"
   ],
   "metadata": {
    "collapsed": false,
    "ExecuteTime": {
     "end_time": "2024-02-16T02:42:10.051542Z",
     "start_time": "2024-02-16T02:38:53.673356Z"
    }
   },
   "id": "5ba0aaf2eaee2a7f",
   "execution_count": 115
  },
  {
   "cell_type": "code",
   "outputs": [],
   "source": [
    "from onlineldavb import OnlineLDA"
   ],
   "metadata": {
    "collapsed": false,
    "ExecuteTime": {
     "end_time": "2024-02-16T02:42:10.065971Z",
     "start_time": "2024-02-16T02:42:10.053426Z"
    }
   },
   "id": "bd033a69b2064b80",
   "execution_count": 116
  },
  {
   "cell_type": "code",
   "outputs": [],
   "source": [
    "\n",
    "# 设置 LDA 模型的参数\n",
    "K = 100  # 主题数\n",
    "batchsize = 100  # 每次迭代处理的文档数\n",
    "alpha = 50/K  # 主题权重的先验\n",
    "eta = 0.1 # 词-主题分布的先验\n",
    "tau_0 = 64  # 学习率控制参数\n",
    "kappa = 0.7  # 学习率\n",
    "vocab_dict = {word: index for index, word in enumerate(vectorizer.get_feature_names_out())}\n",
    "# 初始化在线 LDA 模型\n",
    "olda = OnlineLDA(vocab_dict, K, D, alpha, eta, tau_0, kappa)\n",
    "\n",
    "# 训练模型\n",
    "# 假设 doc_word_matrix 是一个 D x W 的矩阵，其中每一行代表一个文档的词袋表示\n",
    "for idx in range(0, D, batchsize):\n",
    "    batch = doc_word_matrix[idx:min(idx+batchsize, D)]\n",
    "    olda.update_lambda(batch)\n",
    "    if (idx + batchsize) % 1000 == 0:  # 每1000篇文档保存一次模型\n",
    "        np.savetxt('lambda_iter_{}.dat'.format(idx + batchsize), olda._lambda)"
   ],
   "metadata": {
    "collapsed": false,
    "ExecuteTime": {
     "end_time": "2024-02-16T02:42:29.894966Z",
     "start_time": "2024-02-16T02:42:10.063712Z"
    }
   },
   "id": "e5c51063f589513a",
   "execution_count": 117
  },
  {
   "cell_type": "code",
   "outputs": [
    {
     "name": "stderr",
     "output_type": "stream",
     "text": [
      "/var/folders/9x/3n1chdsx4pxg5ymbp6p9ptwr0000gn/T/ipykernel_93134/4190965496.py:3: SettingWithCopyWarning: \n",
      "A value is trying to be set on a copy of a slice from a DataFrame.\n",
      "Try using .loc[row_indexer,col_indexer] = value instead\n",
      "\n",
      "See the caveats in the documentation: https://pandas.pydata.org/pandas-docs/stable/user_guide/indexing.html#returning-a-view-versus-a-copy\n",
      "  test['processed'] = test['short_description'].apply(preprocess)\n"
     ]
    }
   ],
   "source": [
    "from onlineldavb import dirichlet_expectation\n",
    "import numpy as np\n",
    "test['processed'] = test['short_description'].apply(preprocess)\n",
    "test_doc_word_matrix = vectorizer.transform(test['processed']).toarray()\n"
   ],
   "metadata": {
    "collapsed": false,
    "ExecuteTime": {
     "end_time": "2024-02-16T02:53:06.338932Z",
     "start_time": "2024-02-16T02:42:29.894966Z"
    }
   },
   "id": "262eddbbd066ee2",
   "execution_count": 118
  },
  {
   "cell_type": "code",
   "outputs": [],
   "source": [
    "def compute_perplexity(model, test_doc_word_matrix):\n",
    "    Elogbeta = dirichlet_expectation(model._lambda)\n",
    "    expElogbeta = np.exp(Elogbeta)\n",
    "\n",
    "    total_log_likelihood = 0\n",
    "    total_words = 0\n",
    "\n",
    "    for d in range(len(test_doc_word_matrix)):\n",
    "        doc = test_doc_word_matrix[d]\n",
    "        ids = np.where(doc > 0)[0]\n",
    "        if len(ids) == 0:\n",
    "            continue\n",
    "        cts = doc[ids]\n",
    "\n",
    "        gamma = model._alpha + expElogbeta[:, ids].dot(cts)\n",
    "        Elogtheta = dirichlet_expectation(gamma)\n",
    "        expElogtheta = np.exp(Elogtheta)\n",
    "\n",
    "        # 计算对数似然\n",
    "        phinorm = np.dot(expElogtheta, expElogbeta[:, ids]) + 1e-100  # 避免除以零\n",
    "        log_likelihood = np.sum(cts * np.log(phinorm / np.sum(phinorm)))  # 注意这里的变化\n",
    "\n",
    "        total_log_likelihood += log_likelihood\n",
    "        total_words += np.sum(cts)\n",
    "\n",
    "    if total_words == 0:\n",
    "        return float('inf')  # 如果没有词汇，返回无穷大表示困惑度无法计算\n",
    "\n",
    "    perplexity = np.exp(-total_log_likelihood / total_words)\n",
    "    return perplexity\n"
   ],
   "metadata": {
    "collapsed": false,
    "ExecuteTime": {
     "end_time": "2024-02-16T02:53:06.347224Z",
     "start_time": "2024-02-16T02:53:06.339120Z"
    }
   },
   "id": "cc94ee14f9822914",
   "execution_count": 119
  },
  {
   "cell_type": "code",
   "outputs": [
    {
     "name": "stdout",
     "output_type": "stream",
     "text": [
      "Perplexity: 6.5776479920480435\n"
     ]
    }
   ],
   "source": [
    "perplexity = compute_perplexity(olda, test_doc_word_matrix)\n",
    "print(\"Perplexity:\", perplexity)"
   ],
   "metadata": {
    "collapsed": false,
    "ExecuteTime": {
     "end_time": "2024-02-16T02:53:07.957097Z",
     "start_time": "2024-02-16T02:53:06.345294Z"
    }
   },
   "id": "1d783b6abac99202",
   "execution_count": 120
  }
 ],
 "metadata": {
  "kernelspec": {
   "display_name": "Python 3",
   "language": "python",
   "name": "python3"
  },
  "language_info": {
   "codemirror_mode": {
    "name": "ipython",
    "version": 2
   },
   "file_extension": ".py",
   "mimetype": "text/x-python",
   "name": "python",
   "nbconvert_exporter": "python",
   "pygments_lexer": "ipython2",
   "version": "2.7.6"
  }
 },
 "nbformat": 4,
 "nbformat_minor": 5
}
